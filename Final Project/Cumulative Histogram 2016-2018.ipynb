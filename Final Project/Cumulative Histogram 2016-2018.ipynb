{
 "cells": [
  {
   "cell_type": "markdown",
   "id": "dd98953a",
   "metadata": {},
   "source": [
    "# A cumulative Data on the Flood Situatioin between the Year 2016-2018"
   ]
  },
  {
   "cell_type": "code",
   "execution_count": 55,
   "id": "ffd9a302",
   "metadata": {},
   "outputs": [],
   "source": [
    "import pandas as pd\n",
    "import numpy as np\n",
    "import matplotlib.pyplot as plt\n",
    "import seaborn as sns\n",
    "import random"
   ]
  },
  {
   "cell_type": "markdown",
   "id": "c0bdc075",
   "metadata": {},
   "source": [
    "# Importing the CSV files "
   ]
  },
  {
   "cell_type": "code",
   "execution_count": 3,
   "id": "954cc561",
   "metadata": {},
   "outputs": [],
   "source": [
    "df1= pd.read_csv('2016 FLood data.csv')"
   ]
  },
  {
   "cell_type": "code",
   "execution_count": 4,
   "id": "01315df1",
   "metadata": {},
   "outputs": [
    {
     "data": {
      "text/html": [
       "<div>\n",
       "<style scoped>\n",
       "    .dataframe tbody tr th:only-of-type {\n",
       "        vertical-align: middle;\n",
       "    }\n",
       "\n",
       "    .dataframe tbody tr th {\n",
       "        vertical-align: top;\n",
       "    }\n",
       "\n",
       "    .dataframe thead th {\n",
       "        text-align: right;\n",
       "    }\n",
       "</style>\n",
       "<table border=\"1\" class=\"dataframe\">\n",
       "  <thead>\n",
       "    <tr style=\"text-align: right;\">\n",
       "      <th></th>\n",
       "      <th>Sl.No</th>\n",
       "      <th>Year</th>\n",
       "      <th>Name of State/UT</th>\n",
       "      <th>Stat_Code</th>\n",
       "      <th>Human Lives Lost Nos.</th>\n",
       "      <th>Total Damages Crops,Houses &amp; Public Utilities (Rs. Crore)</th>\n",
       "    </tr>\n",
       "  </thead>\n",
       "  <tbody>\n",
       "    <tr>\n",
       "      <th>0</th>\n",
       "      <td>1</td>\n",
       "      <td>2016</td>\n",
       "      <td>Andhra Pradesh</td>\n",
       "      <td>28</td>\n",
       "      <td>3</td>\n",
       "      <td>0</td>\n",
       "    </tr>\n",
       "    <tr>\n",
       "      <th>1</th>\n",
       "      <td>2</td>\n",
       "      <td>2016</td>\n",
       "      <td>Arunachal Pradesh</td>\n",
       "      <td>12</td>\n",
       "      <td>42</td>\n",
       "      <td>0</td>\n",
       "    </tr>\n",
       "    <tr>\n",
       "      <th>2</th>\n",
       "      <td>3</td>\n",
       "      <td>2016</td>\n",
       "      <td>Assam</td>\n",
       "      <td>18</td>\n",
       "      <td>36</td>\n",
       "      <td>17.89</td>\n",
       "    </tr>\n",
       "    <tr>\n",
       "      <th>3</th>\n",
       "      <td>4</td>\n",
       "      <td>2016</td>\n",
       "      <td>Bihar</td>\n",
       "      <td>10</td>\n",
       "      <td>254</td>\n",
       "      <td>528.762</td>\n",
       "    </tr>\n",
       "    <tr>\n",
       "      <th>4</th>\n",
       "      <td>5</td>\n",
       "      <td>2016</td>\n",
       "      <td>Chattisgarh</td>\n",
       "      <td>22</td>\n",
       "      <td>0</td>\n",
       "      <td>0</td>\n",
       "    </tr>\n",
       "  </tbody>\n",
       "</table>\n",
       "</div>"
      ],
      "text/plain": [
       "   Sl.No  Year   Name of State/UT  Stat_Code  Human Lives Lost Nos.  \\\n",
       "0      1  2016     Andhra Pradesh         28                      3   \n",
       "1      2  2016  Arunachal Pradesh         12                     42   \n",
       "2      3  2016              Assam         18                     36   \n",
       "3      4  2016              Bihar         10                    254   \n",
       "4      5  2016        Chattisgarh         22                      0   \n",
       "\n",
       "  Total Damages Crops,Houses & Public Utilities (Rs. Crore)  \n",
       "0                                                  0         \n",
       "1                                                  0         \n",
       "2                                              17.89         \n",
       "3                                            528.762         \n",
       "4                                                  0         "
      ]
     },
     "execution_count": 4,
     "metadata": {},
     "output_type": "execute_result"
    }
   ],
   "source": [
    "df1.head()"
   ]
  },
  {
   "cell_type": "code",
   "execution_count": 6,
   "id": "6683b070",
   "metadata": {},
   "outputs": [],
   "source": [
    "df2 = pd.read_csv('2017 FLood Data.csv')"
   ]
  },
  {
   "cell_type": "code",
   "execution_count": 7,
   "id": "128e7c6f",
   "metadata": {},
   "outputs": [
    {
     "data": {
      "text/html": [
       "<div>\n",
       "<style scoped>\n",
       "    .dataframe tbody tr th:only-of-type {\n",
       "        vertical-align: middle;\n",
       "    }\n",
       "\n",
       "    .dataframe tbody tr th {\n",
       "        vertical-align: top;\n",
       "    }\n",
       "\n",
       "    .dataframe thead th {\n",
       "        text-align: right;\n",
       "    }\n",
       "</style>\n",
       "<table border=\"1\" class=\"dataframe\">\n",
       "  <thead>\n",
       "    <tr style=\"text-align: right;\">\n",
       "      <th></th>\n",
       "      <th>Sl.No</th>\n",
       "      <th>Year</th>\n",
       "      <th>Name of State/UT</th>\n",
       "      <th>Stat_Code</th>\n",
       "      <th>Population Affected (Million)</th>\n",
       "      <th>Damages to Crops - Value (Rs. Crore)</th>\n",
       "      <th>Cattle Lost Nos.</th>\n",
       "      <th>Human Lives Lost Nos.</th>\n",
       "      <th>Total Damages Crops,Houses &amp; Public Utilities (Rs. Crore)</th>\n",
       "    </tr>\n",
       "  </thead>\n",
       "  <tbody>\n",
       "    <tr>\n",
       "      <th>0</th>\n",
       "      <td>1</td>\n",
       "      <td>2017</td>\n",
       "      <td>Andhra Pradesh</td>\n",
       "      <td>28</td>\n",
       "      <td>0.000</td>\n",
       "      <td>0.00</td>\n",
       "      <td>0</td>\n",
       "      <td>1</td>\n",
       "      <td>0.00</td>\n",
       "    </tr>\n",
       "    <tr>\n",
       "      <th>1</th>\n",
       "      <td>2</td>\n",
       "      <td>2017</td>\n",
       "      <td>Arunachal Pradesh</td>\n",
       "      <td>12</td>\n",
       "      <td>0.199</td>\n",
       "      <td>97.54</td>\n",
       "      <td>1177</td>\n",
       "      <td>60</td>\n",
       "      <td>1574.68</td>\n",
       "    </tr>\n",
       "    <tr>\n",
       "      <th>2</th>\n",
       "      <td>3</td>\n",
       "      <td>2017</td>\n",
       "      <td>Assam</td>\n",
       "      <td>18</td>\n",
       "      <td>5.602</td>\n",
       "      <td>0.00</td>\n",
       "      <td>0</td>\n",
       "      <td>160</td>\n",
       "      <td>0.00</td>\n",
       "    </tr>\n",
       "    <tr>\n",
       "      <th>3</th>\n",
       "      <td>4</td>\n",
       "      <td>2017</td>\n",
       "      <td>Bihar</td>\n",
       "      <td>10</td>\n",
       "      <td>17.164</td>\n",
       "      <td>0.00</td>\n",
       "      <td>373</td>\n",
       "      <td>514</td>\n",
       "      <td>0.00</td>\n",
       "    </tr>\n",
       "    <tr>\n",
       "      <th>4</th>\n",
       "      <td>5</td>\n",
       "      <td>2017</td>\n",
       "      <td>Chattisgarh</td>\n",
       "      <td>22</td>\n",
       "      <td>0.000</td>\n",
       "      <td>0.00</td>\n",
       "      <td>0</td>\n",
       "      <td>52</td>\n",
       "      <td>0.00</td>\n",
       "    </tr>\n",
       "  </tbody>\n",
       "</table>\n",
       "</div>"
      ],
      "text/plain": [
       "   Sl.No  Year   Name of State/UT  Stat_Code  Population Affected (Million)  \\\n",
       "0      1  2017     Andhra Pradesh         28                          0.000   \n",
       "1      2  2017  Arunachal Pradesh         12                          0.199   \n",
       "2      3  2017              Assam         18                          5.602   \n",
       "3      4  2017              Bihar         10                         17.164   \n",
       "4      5  2017        Chattisgarh         22                          0.000   \n",
       "\n",
       "   Damages to Crops - Value (Rs. Crore)  Cattle Lost Nos.  \\\n",
       "0                                  0.00                 0   \n",
       "1                                 97.54              1177   \n",
       "2                                  0.00                 0   \n",
       "3                                  0.00               373   \n",
       "4                                  0.00                 0   \n",
       "\n",
       "   Human Lives Lost Nos.  \\\n",
       "0                      1   \n",
       "1                     60   \n",
       "2                    160   \n",
       "3                    514   \n",
       "4                     52   \n",
       "\n",
       "   Total Damages Crops,Houses & Public Utilities (Rs. Crore)  \n",
       "0                                               0.00          \n",
       "1                                            1574.68          \n",
       "2                                               0.00          \n",
       "3                                               0.00          \n",
       "4                                               0.00          "
      ]
     },
     "execution_count": 7,
     "metadata": {},
     "output_type": "execute_result"
    }
   ],
   "source": [
    "df2.head()"
   ]
  },
  {
   "cell_type": "code",
   "execution_count": 8,
   "id": "cdf64ed4",
   "metadata": {},
   "outputs": [],
   "source": [
    "df3 = pd.read_csv('2018 FLood Data.csv')"
   ]
  },
  {
   "cell_type": "code",
   "execution_count": 18,
   "id": "972c9b52",
   "metadata": {},
   "outputs": [
    {
     "data": {
      "text/html": [
       "<div>\n",
       "<style scoped>\n",
       "    .dataframe tbody tr th:only-of-type {\n",
       "        vertical-align: middle;\n",
       "    }\n",
       "\n",
       "    .dataframe tbody tr th {\n",
       "        vertical-align: top;\n",
       "    }\n",
       "\n",
       "    .dataframe thead th {\n",
       "        text-align: right;\n",
       "    }\n",
       "</style>\n",
       "<table border=\"1\" class=\"dataframe\">\n",
       "  <thead>\n",
       "    <tr style=\"text-align: right;\">\n",
       "      <th></th>\n",
       "      <th>Sl.No</th>\n",
       "      <th>Year</th>\n",
       "      <th>Name of State/UT</th>\n",
       "      <th>Stat_Code</th>\n",
       "      <th>Population Affected (Million)</th>\n",
       "      <th>Damages to Crops - Value (Rs. Crore)</th>\n",
       "      <th>Cattle Lost Nos.</th>\n",
       "      <th>Human Lives Lost Nos.</th>\n",
       "      <th>Total Damages Crops,Houses &amp; Public Utilities (Rs. Crore)</th>\n",
       "    </tr>\n",
       "  </thead>\n",
       "  <tbody>\n",
       "    <tr>\n",
       "      <th>0</th>\n",
       "      <td>1</td>\n",
       "      <td>2018</td>\n",
       "      <td>Andhra Pradesh</td>\n",
       "      <td>28</td>\n",
       "      <td>0.000</td>\n",
       "      <td>0.000</td>\n",
       "      <td>0</td>\n",
       "      <td>0</td>\n",
       "      <td>0.000</td>\n",
       "    </tr>\n",
       "    <tr>\n",
       "      <th>1</th>\n",
       "      <td>2</td>\n",
       "      <td>2018</td>\n",
       "      <td>Arunachal Pradesh</td>\n",
       "      <td>12</td>\n",
       "      <td>0.000</td>\n",
       "      <td>462.915</td>\n",
       "      <td>47</td>\n",
       "      <td>33</td>\n",
       "      <td>87149.192</td>\n",
       "    </tr>\n",
       "    <tr>\n",
       "      <th>2</th>\n",
       "      <td>3</td>\n",
       "      <td>2018</td>\n",
       "      <td>Assam</td>\n",
       "      <td>18</td>\n",
       "      <td>1.322</td>\n",
       "      <td>0.000</td>\n",
       "      <td>193</td>\n",
       "      <td>53</td>\n",
       "      <td>0.000</td>\n",
       "    </tr>\n",
       "    <tr>\n",
       "      <th>3</th>\n",
       "      <td>4</td>\n",
       "      <td>2018</td>\n",
       "      <td>Bihar</td>\n",
       "      <td>10</td>\n",
       "      <td>0.167</td>\n",
       "      <td>0.000</td>\n",
       "      <td>0</td>\n",
       "      <td>0</td>\n",
       "      <td>0.000</td>\n",
       "    </tr>\n",
       "    <tr>\n",
       "      <th>4</th>\n",
       "      <td>5</td>\n",
       "      <td>2018</td>\n",
       "      <td>Chattisgarh</td>\n",
       "      <td>22</td>\n",
       "      <td>0.000</td>\n",
       "      <td>0.000</td>\n",
       "      <td>0</td>\n",
       "      <td>0</td>\n",
       "      <td>0.000</td>\n",
       "    </tr>\n",
       "  </tbody>\n",
       "</table>\n",
       "</div>"
      ],
      "text/plain": [
       "   Sl.No  Year   Name of State/UT  Stat_Code  Population Affected (Million)  \\\n",
       "0      1  2018     Andhra Pradesh         28                          0.000   \n",
       "1      2  2018  Arunachal Pradesh         12                          0.000   \n",
       "2      3  2018              Assam         18                          1.322   \n",
       "3      4  2018              Bihar         10                          0.167   \n",
       "4      5  2018        Chattisgarh         22                          0.000   \n",
       "\n",
       "   Damages to Crops - Value (Rs. Crore)  Cattle Lost Nos.  \\\n",
       "0                                 0.000                 0   \n",
       "1                               462.915                47   \n",
       "2                                 0.000               193   \n",
       "3                                 0.000                 0   \n",
       "4                                 0.000                 0   \n",
       "\n",
       "   Human Lives Lost Nos.  \\\n",
       "0                      0   \n",
       "1                     33   \n",
       "2                     53   \n",
       "3                      0   \n",
       "4                      0   \n",
       "\n",
       "   Total Damages Crops,Houses & Public Utilities (Rs. Crore)  \n",
       "0                                              0.000          \n",
       "1                                          87149.192          \n",
       "2                                              0.000          \n",
       "3                                              0.000          \n",
       "4                                              0.000          "
      ]
     },
     "execution_count": 18,
     "metadata": {},
     "output_type": "execute_result"
    }
   ],
   "source": [
    "df3.head()"
   ]
  },
  {
   "cell_type": "markdown",
   "id": "fe8d7929",
   "metadata": {},
   "source": [
    "# Representing the data of particular year using Histogram"
   ]
  },
  {
   "cell_type": "code",
   "execution_count": 24,
   "id": "543266a9",
   "metadata": {},
   "outputs": [],
   "source": [
    "state = pd.read_excel('State_Code.xlsx')"
   ]
  },
  {
   "cell_type": "code",
   "execution_count": 25,
   "id": "552ab88d",
   "metadata": {},
   "outputs": [
    {
     "data": {
      "text/html": [
       "<div>\n",
       "<style scoped>\n",
       "    .dataframe tbody tr th:only-of-type {\n",
       "        vertical-align: middle;\n",
       "    }\n",
       "\n",
       "    .dataframe tbody tr th {\n",
       "        vertical-align: top;\n",
       "    }\n",
       "\n",
       "    .dataframe thead th {\n",
       "        text-align: right;\n",
       "    }\n",
       "</style>\n",
       "<table border=\"1\" class=\"dataframe\">\n",
       "  <thead>\n",
       "    <tr style=\"text-align: right;\">\n",
       "      <th></th>\n",
       "      <th>Stat_Code</th>\n",
       "      <th>Human Lives Lost Nos.</th>\n",
       "    </tr>\n",
       "  </thead>\n",
       "  <tbody>\n",
       "    <tr>\n",
       "      <th>0</th>\n",
       "      <td>28</td>\n",
       "      <td>3</td>\n",
       "    </tr>\n",
       "    <tr>\n",
       "      <th>1</th>\n",
       "      <td>12</td>\n",
       "      <td>42</td>\n",
       "    </tr>\n",
       "    <tr>\n",
       "      <th>2</th>\n",
       "      <td>18</td>\n",
       "      <td>36</td>\n",
       "    </tr>\n",
       "    <tr>\n",
       "      <th>3</th>\n",
       "      <td>10</td>\n",
       "      <td>254</td>\n",
       "    </tr>\n",
       "    <tr>\n",
       "      <th>4</th>\n",
       "      <td>22</td>\n",
       "      <td>0</td>\n",
       "    </tr>\n",
       "  </tbody>\n",
       "</table>\n",
       "</div>"
      ],
      "text/plain": [
       "   Stat_Code  Human Lives Lost Nos.\n",
       "0         28                      3\n",
       "1         12                     42\n",
       "2         18                     36\n",
       "3         10                    254\n",
       "4         22                      0"
      ]
     },
     "execution_count": 25,
     "metadata": {},
     "output_type": "execute_result"
    }
   ],
   "source": [
    "state.head()"
   ]
  },
  {
   "cell_type": "code",
   "execution_count": 26,
   "id": "d0cb46c9",
   "metadata": {},
   "outputs": [
    {
     "data": {
      "image/png": "[encoded data removed]",
      "text/plain": [
       "<Figure size 432x288 with 1 Axes>"
      ]
     },
     "metadata": {
      "needs_background": "light"
     },
     "output_type": "display_data"
    }
   ],
   "source": [
    "bin_range=[0,50,100,150,200,250,300,350,400,450,500,550,600]\n",
    "plt.hist(state,\n",
    "        bins = bin_range,\n",
    "        density = False,\n",
    "        histtype='bar',\n",
    "        edgecolor='k')\n",
    "\n",
    "plt.xlabel('Total Damages Crops,Houses & Public Utilities (Rs. Crore)')\n",
    "plt.ylabel('Stat_Code')\n",
    "plt.show()"
   ]
  },
  {
   "cell_type": "code",
   "execution_count": 20,
   "id": "a3dc1c23",
   "metadata": {},
   "outputs": [],
   "source": [
    "state1 = pd.read_csv('2017 data.csv')"
   ]
  },
  {
   "cell_type": "code",
   "execution_count": 21,
   "id": "03e00307",
   "metadata": {},
   "outputs": [
    {
     "data": {
      "text/html": [
       "<div>\n",
       "<style scoped>\n",
       "    .dataframe tbody tr th:only-of-type {\n",
       "        vertical-align: middle;\n",
       "    }\n",
       "\n",
       "    .dataframe tbody tr th {\n",
       "        vertical-align: top;\n",
       "    }\n",
       "\n",
       "    .dataframe thead th {\n",
       "        text-align: right;\n",
       "    }\n",
       "</style>\n",
       "<table border=\"1\" class=\"dataframe\">\n",
       "  <thead>\n",
       "    <tr style=\"text-align: right;\">\n",
       "      <th></th>\n",
       "      <th>Stat_Code</th>\n",
       "      <th>Total Damages Crops,Houses &amp; Public Utilities (Rs. Crore)</th>\n",
       "    </tr>\n",
       "  </thead>\n",
       "  <tbody>\n",
       "    <tr>\n",
       "      <th>0</th>\n",
       "      <td>28</td>\n",
       "      <td>0.00</td>\n",
       "    </tr>\n",
       "    <tr>\n",
       "      <th>1</th>\n",
       "      <td>12</td>\n",
       "      <td>1574.68</td>\n",
       "    </tr>\n",
       "    <tr>\n",
       "      <th>2</th>\n",
       "      <td>18</td>\n",
       "      <td>0.00</td>\n",
       "    </tr>\n",
       "    <tr>\n",
       "      <th>3</th>\n",
       "      <td>10</td>\n",
       "      <td>0.00</td>\n",
       "    </tr>\n",
       "    <tr>\n",
       "      <th>4</th>\n",
       "      <td>22</td>\n",
       "      <td>0.00</td>\n",
       "    </tr>\n",
       "  </tbody>\n",
       "</table>\n",
       "</div>"
      ],
      "text/plain": [
       "   Stat_Code  Total Damages Crops,Houses & Public Utilities (Rs. Crore)\n",
       "0         28                                               0.00        \n",
       "1         12                                            1574.68        \n",
       "2         18                                               0.00        \n",
       "3         10                                               0.00        \n",
       "4         22                                               0.00        "
      ]
     },
     "execution_count": 21,
     "metadata": {},
     "output_type": "execute_result"
    }
   ],
   "source": [
    "state1.head()"
   ]
  },
  {
   "cell_type": "code",
   "execution_count": 31,
   "id": "5721b941",
   "metadata": {},
   "outputs": [
    {
     "data": {
      "image/png": "[encoded data removed]",
      "text/plain": [
       "<Figure size 432x288 with 1 Axes>"
      ]
     },
     "metadata": {
      "needs_background": "light"
     },
     "output_type": "display_data"
    }
   ],
   "source": [
    "bin_range=[0,500,1000,1500,2000,2500,3000,3500,4000,5000]\n",
    "plt.hist(state1,\n",
    "        bins = bin_range,\n",
    "        density = False,\n",
    "        histtype='bar',\n",
    "        edgecolor='k')\n",
    "\n",
    "plt.xlabel('Total Damages Crops,Houses & Public Utilities (Rs. Crore)')\n",
    "plt.ylabel('Stat_Code')\n",
    "plt.show()"
   ]
  },
  {
   "cell_type": "code",
   "execution_count": 51,
   "id": "f3d7ebf2",
   "metadata": {},
   "outputs": [],
   "source": [
    "state2 = pd.read_csv('2018 data.csv')"
   ]
  },
  {
   "cell_type": "code",
   "execution_count": 52,
   "id": "4eec37de",
   "metadata": {},
   "outputs": [
    {
     "data": {
      "text/html": [
       "<div>\n",
       "<style scoped>\n",
       "    .dataframe tbody tr th:only-of-type {\n",
       "        vertical-align: middle;\n",
       "    }\n",
       "\n",
       "    .dataframe tbody tr th {\n",
       "        vertical-align: top;\n",
       "    }\n",
       "\n",
       "    .dataframe thead th {\n",
       "        text-align: right;\n",
       "    }\n",
       "</style>\n",
       "<table border=\"1\" class=\"dataframe\">\n",
       "  <thead>\n",
       "    <tr style=\"text-align: right;\">\n",
       "      <th></th>\n",
       "      <th>Stat_Code</th>\n",
       "      <th>Total Damages Crops,Houses &amp; Public Utilities (Rs. Crore)</th>\n",
       "    </tr>\n",
       "  </thead>\n",
       "  <tbody>\n",
       "    <tr>\n",
       "      <th>0</th>\n",
       "      <td>28</td>\n",
       "      <td>0.000</td>\n",
       "    </tr>\n",
       "    <tr>\n",
       "      <th>1</th>\n",
       "      <td>12</td>\n",
       "      <td>87149.192</td>\n",
       "    </tr>\n",
       "    <tr>\n",
       "      <th>2</th>\n",
       "      <td>18</td>\n",
       "      <td>0.000</td>\n",
       "    </tr>\n",
       "    <tr>\n",
       "      <th>3</th>\n",
       "      <td>10</td>\n",
       "      <td>0.000</td>\n",
       "    </tr>\n",
       "    <tr>\n",
       "      <th>4</th>\n",
       "      <td>22</td>\n",
       "      <td>0.000</td>\n",
       "    </tr>\n",
       "  </tbody>\n",
       "</table>\n",
       "</div>"
      ],
      "text/plain": [
       "   Stat_Code  Total Damages Crops,Houses & Public Utilities (Rs. Crore)\n",
       "0         28                                              0.000        \n",
       "1         12                                          87149.192        \n",
       "2         18                                              0.000        \n",
       "3         10                                              0.000        \n",
       "4         22                                              0.000        "
      ]
     },
     "execution_count": 52,
     "metadata": {},
     "output_type": "execute_result"
    }
   ],
   "source": [
    "state2.head()"
   ]
  },
  {
   "cell_type": "code",
   "execution_count": 54,
   "id": "9130b3a2",
   "metadata": {},
   "outputs": [
    {
     "data": {
      "image/png": "[encoded data removed]",
      "text/plain": [
       "<Figure size 432x288 with 1 Axes>"
      ]
     },
     "metadata": {
      "needs_background": "light"
     },
     "output_type": "display_data"
    }
   ],
   "source": [
    "bin_range=[0,500,1000,1500,2000,2500,3000,4000,10000]\n",
    "plt.hist(state2,\n",
    "        bins = bin_range,\n",
    "        density = False,\n",
    "        histtype='bar',\n",
    "        edgecolor='k')\n",
    "\n",
    "plt.xlabel('Total Damages Crops,Houses & Public Utilities (Rs. Crore)')\n",
    "plt.ylabel('Stat_Code')\n",
    "plt.show()"
   ]
  },
  {
   "cell_type": "markdown",
   "id": "d9512fb0",
   "metadata": {},
   "source": [
    "# Representing Cumulative data of the year 2016,2017 & 2018 on Histogram"
   ]
  },
  {
   "cell_type": "markdown",
   "id": "1e6da95e",
   "metadata": {},
   "source": [
    "Using all the three data , we have designed a cumulative histogram on the following Parameters \n",
    "1. Total Damages of Crops,Houses & Public Utilities (Rs.Crore)\n",
    "2. The State_code of particular state"
   ]
  },
  {
   "cell_type": "code",
   "execution_count": 56,
   "id": "c2a0dbfd",
   "metadata": {},
   "outputs": [
    {
     "data": {
      "image/png": "[encoded data removed]",
      "text/plain": [
       "<Figure size 432x288 with 1 Axes>"
      ]
     },
     "metadata": {
      "needs_background": "light"
     },
     "output_type": "display_data"
    }
   ],
   "source": [
    "\n",
    "state1 = [random.gauss(3,1) for _ in range(400)]\n",
    "state2 = [random.gauss(4,2) for _ in range(400)]\n",
    "state = [random.gauss(5,3) for _ in range(400)]\n",
    "\n",
    "plt.hist([state1,state2,state], \n",
    "         bins= 100, range=[0,10], \n",
    "         alpha=1.0, \n",
    "         label=['Total Damages Crops,Houses & Public Utilities (Rs. Crore)', 'Stat_Code'])\n",
    "plt.legend(loc='upper right')\n",
    "plt.show()"
   ]
  },
  {
   "cell_type": "code",
   "execution_count": null,
   "id": "8b1c44ed",
   "metadata": {},
   "outputs": [],
   "source": []
  }
 ],
 "metadata": {
  "kernelspec": {
   "display_name": "Python 3 (ipykernel)",
   "language": "python",
   "name": "python3"
  },
  "language_info": {
   "codemirror_mode": {
    "name": "ipython",
    "version": 3
   },
   "file_extension": ".py",
   "mimetype": "text/x-python",
   "name": "python",
   "nbconvert_exporter": "python",
   "pygments_lexer": "ipython3",
   "version": "3.10.5"
  }
 },
 "nbformat": 4,
 "nbformat_minor": 5
}
